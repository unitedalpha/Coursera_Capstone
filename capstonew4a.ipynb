{
 "cells": [
  {
   "cell_type": "markdown",
   "metadata": {},
   "source": [
    "Manhattan Food delivery Site Selection Analysis\n",
    "\n",
    "This is a data-driven site selection analysis report for food delivery start-ups in Manhattan to select the best-fit positions where they could provide the fastest service and take less operation risk. \n",
    "\n",
    "This analysis is based on some assumptions:\n",
    "\n",
    "1)\tCustomers prefer the high rating merchandises \n",
    "\n",
    "2)\tFood delivery order cannot be canceled after the food is picked up from the merchandise\n",
    "\n",
    "3)\tThe distance between site location and high rating merchandises is the dominated factor of \n",
    "    business operation risk.\n",
    "\n",
    "According to the assumptions we should group the all high rating merchandises and find every point that has the shortest distance to all of the merchandises in the group. Those points will be the best locations for food delivery sites."
   ]
  }
 ],
 "metadata": {
  "kernelspec": {
   "display_name": "Python 3",
   "language": "python",
   "name": "python3"
  },
  "language_info": {
   "codemirror_mode": {
    "name": "ipython",
    "version": 3
   },
   "file_extension": ".py",
   "mimetype": "text/x-python",
   "name": "python",
   "nbconvert_exporter": "python",
   "pygments_lexer": "ipython3",
   "version": "3.6.8"
  }
 },
 "nbformat": 4,
 "nbformat_minor": 2
}

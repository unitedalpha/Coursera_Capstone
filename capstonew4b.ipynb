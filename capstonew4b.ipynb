{
 "cells": [
  {
   "cell_type": "markdown",
   "metadata": {},
   "source": [
    "Now we could decide what kind of data we will need:\n",
    "\n",
    "1)\tThe position data of all food, drink and grocery stores in Manhattan area\n",
    "\n",
    "2)\tAll the rating data of the stores\n",
    "\n",
    "3)\tThe position data of top 25% rating stores\n",
    "\n",
    "So we are going to use the Foursquare location data API to get the data we need and will use the centroid model of clustering analysis to find the centroid of each group in the data.  The K-means clustering algorithm of this model works iteratively to assign each data point to one of K groups based on the features that are provided. Data points are clustered based on feature similarity. The results of this algorithm are the centroids of the K clusters, which can be used as our best-fit positions of delivery sites.\n"
   ]
  }
 ],
 "metadata": {
  "kernelspec": {
   "display_name": "Python 3",
   "language": "python",
   "name": "python3"
  },
  "language_info": {
   "codemirror_mode": {
    "name": "ipython",
    "version": 3
   },
   "file_extension": ".py",
   "mimetype": "text/x-python",
   "name": "python",
   "nbconvert_exporter": "python",
   "pygments_lexer": "ipython3",
   "version": "3.6.8"
  }
 },
 "nbformat": 4,
 "nbformat_minor": 2
}
